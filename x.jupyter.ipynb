{
 "metadata": {
  "language_info": {
   "codemirror_mode": {
    "name": "ipython",
    "version": 3
   },
   "file_extension": ".py",
   "mimetype": "text/x-python",
   "name": "python",
   "nbconvert_exporter": "python",
   "pygments_lexer": "ipython3",
   "version": "3.8.6-final"
  },
  "orig_nbformat": 2,
  "kernelspec": {
   "name": "python3",
   "display_name": "Python 3"
  }
 },
 "nbformat": 4,
 "nbformat_minor": 2,
 "cells": [
  {
   "cell_type": "code",
   "execution_count": 3,
   "metadata": {},
   "outputs": [
    {
     "output_type": "stream",
     "name": "stdout",
     "text": [
      "\nlist_a is []\n"
     ]
    }
   ],
   "source": [
    "from common.func import print_var\n",
    "#新建一个空列表\n",
    "list_a = []\n",
    "print_var(list_a)\n"
   ]
  },
  {
   "cell_type": "code",
   "execution_count": 4,
   "metadata": {},
   "outputs": [
    {
     "output_type": "stream",
     "name": "stdout",
     "text": [
      "\nlist_b is [1, 2, 3]\n\nafter append list_b, list_a is [[1, 2, 3]]\n\nafter extend list_b, list_a is [[1, 2, 3], 1, 2, 3]\n\nafter insert list_b before index 2, list_a is [[1, 2, 3], 1, [1, 2, 3], 2, 3]\n"
     ]
    }
   ],
   "source": [
    "#增加\n",
    "list_b = [1,2,3]\n",
    "print_var(list_b)\n",
    "list_a.append(list_b)\n",
    "print_var(list_a, \"after append list_b, \")\n",
    "list_a.extend(list_b)\n",
    "print_var(list_a, \"after extend list_b, \")\n",
    "list_a.insert(2, list_b)\n",
    "print_var(list_a, \"after insert list_b before index 2, \")\n"
   ]
  },
  {
   "cell_type": "code",
   "execution_count": null,
   "metadata": {},
   "outputs": [],
   "source": []
  }
 ]
}